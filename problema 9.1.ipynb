{
 "cells": [
  {
   "cell_type": "markdown",
   "metadata": {},
   "source": [
    "# problema 9.1"
   ]
  },
  {
   "cell_type": "code",
   "execution_count": 1,
   "metadata": {},
   "outputs": [],
   "source": [
    "from numpy import empty, zeros, max\n",
    "from pylab import imshow,gray, show, hot"
   ]
  },
  {
   "cell_type": "code",
   "execution_count": 2,
   "metadata": {},
   "outputs": [
    {
     "data": {
      "image/png": "[encoded data removed]",
      "text/plain": [
       "<Figure size 432x288 with 1 Axes>"
      ]
     },
     "metadata": {
      "needs_background": "light"
     },
     "output_type": "display_data"
    }
   ],
   "source": [
    "#constantes\n",
    "M=100 #grid squares on a side\n",
    "v=1.0  #voltage at top wall\n",
    "target= 1e-6 #Target accuracy\n",
    "a=1  #resolucion \n",
    "eo=1  #epsilon\n",
    "\n",
    "\n",
    "#creando vectores para guardar los valores depotencial\n",
    "phi= zeros([M+1,M+1],float)\n",
    "phi[0,:]=0\n",
    "rho=zeros([M+1,M+1],float)\n",
    "rho[20:41,60:81]=1\n",
    "rho[60:81,20:41]=-1\n",
    "phiprime=empty([M+1,M+1],float)\n",
    "#main loop\n",
    "delta=1.0\n",
    "while delta> target:\n",
    "    #calculate new values of the potencial\n",
    "    for i in range (M+1):\n",
    "        for j in range(M+1):\n",
    "            if i==0 or i==M or j==0 or j==M:\n",
    "                phiprime[i,j]=phi[i,j]\n",
    "            else:\n",
    "                phiprime[i,j]= ((phi[i+a,j] + phi[i-a,j]+phi[i,j+a]+phi[i,j-a])/4)+(a**2/4*eo)*rho[i,j]\n",
    "                \n",
    "      #calculate maximun difference from old values\n",
    "    delta= max(abs(phi-phiprime))\n",
    "                    \n",
    "     #swap the two arrays around \n",
    "    phi, phiprime=phiprime,phi\n",
    "                \n",
    "#make a plot\n",
    "imshow(phi)\n",
    "hot()\n",
    "show()\n",
    "      "
   ]
  },
  {
   "cell_type": "code",
   "execution_count": null,
   "metadata": {},
   "outputs": [],
   "source": []
  }
 ],
 "metadata": {
  "kernelspec": {
   "display_name": "Python 3",
   "language": "python",
   "name": "python3"
  },
  "language_info": {
   "codemirror_mode": {
    "name": "ipython",
    "version": 3
   },
   "file_extension": ".py",
   "mimetype": "text/x-python",
   "name": "python",
   "nbconvert_exporter": "python",
   "pygments_lexer": "ipython3",
   "version": "3.5.2"
  }
 },
 "nbformat": 4,
 "nbformat_minor": 2
}
